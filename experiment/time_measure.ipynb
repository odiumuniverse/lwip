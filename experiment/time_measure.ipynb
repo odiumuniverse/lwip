{
  "nbformat": 4,
  "nbformat_minor": 0,
  "metadata": {
    "colab": {
      "provenance": []
    },
    "kernelspec": {
      "name": "python3",
      "display_name": "Python 3"
    },
    "language_info": {
      "name": "python"
    }
  },
  "cells": [
    {
      "cell_type": "code",
      "execution_count": null,
      "metadata": {
        "id": "PxRh1G0FqnAB"
      },
      "outputs": [],
      "source": [
        "from scipy import stats\n",
        "import numpy as np\n",
        "import matplotlib.pyplot as plt\n",
        "import re"
      ]
    },
    {
      "cell_type": "code",
      "source": [
        "data = \"\"\"\n",
        "\n",
        "\"\"\"\n",
        "\n",
        "pattern = r\"sent in ([\\d\\.]+) seconds\"\n",
        "\n",
        "t = [float(match) for match in re.findall(pattern, data)]\n"
      ],
      "metadata": {
        "id": "_3Sw3yQcquJc"
      },
      "execution_count": 44,
      "outputs": []
    },
    {
      "cell_type": "code",
      "source": [
        "print(t)"
      ],
      "metadata": {
        "colab": {
          "base_uri": "https://localhost:8080/"
        },
        "id": "AiWswtebREPD",
        "outputId": "929840e8-b147-4a86-d54e-797aba2be534"
      },
      "execution_count": 46,
      "outputs": [
        {
          "output_type": "stream",
          "name": "stdout",
          "text": [
            "[3.21, 3.15, 3.28, 3.31, 3.28, 3.05, 3.27, 3.21, 2.99, 2.99, 3.15, 3.33, 3.14, 3.21, 3.01, 3.15, 3.16, 3.13, 3.05, 3.19, 3.27, 3.04, 3.15, 3.22, 3.01, 2.99, 3.34, 3.21, 3.3, 3.35, 3.21, 3.07, 3.19, 3.24, 3.5, 3.05, 3.21, 3.17, 3.26, 3.39, 3.28]\n"
          ]
        }
      ]
    },
    {
      "cell_type": "code",
      "source": [
        "  plt.boxplot(t)"
      ],
      "metadata": {
        "colab": {
          "base_uri": "https://localhost:8080/",
          "height": 573
        },
        "id": "DvstRoT9P2JO",
        "outputId": "ea3ea87f-5e3c-439a-bb63-b85d24370a77"
      },
      "execution_count": 45,
      "outputs": [
        {
          "output_type": "execute_result",
          "data": {
            "text/plain": [
              "{'whiskers': [<matplotlib.lines.Line2D at 0x79f3123359f0>,\n",
              "  <matplotlib.lines.Line2D at 0x79f312335c90>],\n",
              " 'caps': [<matplotlib.lines.Line2D at 0x79f312335f30>,\n",
              "  <matplotlib.lines.Line2D at 0x79f3123361d0>],\n",
              " 'boxes': [<matplotlib.lines.Line2D at 0x79f312335750>],\n",
              " 'medians': [<matplotlib.lines.Line2D at 0x79f312336470>],\n",
              " 'fliers': [<matplotlib.lines.Line2D at 0x79f312336710>],\n",
              " 'means': []}"
            ]
          },
          "metadata": {},
          "execution_count": 45
        },
        {
          "output_type": "display_data",
          "data": {
            "text/plain": [
              "<Figure size 640x480 with 1 Axes>"
            ],
            "image/png": "[encoded data removed]"
          },
          "metadata": {}
        }
      ]
    },
    {
      "cell_type": "code",
      "source": [
        "plt.hist(t)"
      ],
      "metadata": {
        "colab": {
          "base_uri": "https://localhost:8080/",
          "height": 501
        },
        "id": "QoQ2Ob-hquir",
        "outputId": "21d2561b-b335-4f9b-d9d9-ea85108c26c9"
      },
      "execution_count": 41,
      "outputs": [
        {
          "output_type": "execute_result",
          "data": {
            "text/plain": [
              "(array([ 6.,  5.,  5.,  3., 11.,  4.,  2.,  1.,  2.,  2.]),\n",
              " array([0.94979 , 0.960811, 0.971832, 0.982853, 0.993874, 1.004895,\n",
              "        1.015916, 1.026937, 1.037958, 1.048979, 1.06    ]),\n",
              " <BarContainer object of 10 artists>)"
            ]
          },
          "metadata": {},
          "execution_count": 41
        },
        {
          "output_type": "display_data",
          "data": {
            "text/plain": [
              "<Figure size 640x480 with 1 Axes>"
            ],
            "image/png": "[encoded data removed]"
          },
          "metadata": {}
        }
      ]
    },
    {
      "cell_type": "code",
      "source": [
        "stats.normaltest(t)"
      ],
      "metadata": {
        "colab": {
          "base_uri": "https://localhost:8080/"
        },
        "id": "_M5YYfyOsG45",
        "outputId": "fafb6751-1949-422c-cd8a-294a02c00a4c"
      },
      "execution_count": null,
      "outputs": [
        {
          "output_type": "execute_result",
          "data": {
            "text/plain": [
              "NormaltestResult(statistic=7.170609761788333, pvalue=0.027728212539115532)"
            ]
          },
          "metadata": {},
          "execution_count": 20
        }
      ]
    },
    {
      "cell_type": "code",
      "source": [
        "stats.shapiro(t)"
      ],
      "metadata": {
        "colab": {
          "base_uri": "https://localhost:8080/"
        },
        "id": "PB5azm3hq8GR",
        "outputId": "ff3ad522-bfac-4f6b-ffe5-948191ba2553"
      },
      "execution_count": null,
      "outputs": [
        {
          "output_type": "execute_result",
          "data": {
            "text/plain": [
              "ShapiroResult(statistic=0.9694076705129724, pvalue=0.3297702397746228)"
            ]
          },
          "metadata": {},
          "execution_count": 14
        }
      ]
    },
    {
      "cell_type": "code",
      "source": [
        "np.mean(t)"
      ],
      "metadata": {
        "colab": {
          "base_uri": "https://localhost:8080/"
        },
        "id": "-m5SPf7Or_yo",
        "outputId": "dba004c2-8369-4b28-b84f-30ad2b53ec0b"
      },
      "execution_count": null,
      "outputs": [
        {
          "output_type": "execute_result",
          "data": {
            "text/plain": [
              "1.0063686585365854"
            ]
          },
          "metadata": {},
          "execution_count": 15
        }
      ]
    },
    {
      "cell_type": "code",
      "source": [
        "np.std(t, ddof=1)"
      ],
      "metadata": {
        "colab": {
          "base_uri": "https://localhost:8080/"
        },
        "id": "EfqjEywPq8KQ",
        "outputId": "9d54569d-bb89-416a-9ce3-17b366df72dd"
      },
      "execution_count": null,
      "outputs": [
        {
          "output_type": "execute_result",
          "data": {
            "text/plain": [
              "0.032976544830841344"
            ]
          },
          "metadata": {},
          "execution_count": 16
        }
      ]
    },
    {
      "cell_type": "code",
      "source": [
        "stats.t.ppf(0.975, df=len(t) - 1) * stats.sem(t)"
      ],
      "metadata": {
        "colab": {
          "base_uri": "https://localhost:8080/"
        },
        "id": "QKgLNQaJq8OV",
        "outputId": "6d2451d2-fcdc-4a47-9a43-3c1330707193"
      },
      "execution_count": null,
      "outputs": [
        {
          "output_type": "execute_result",
          "data": {
            "text/plain": [
              "0.010408681878342822"
            ]
          },
          "metadata": {},
          "execution_count": 17
        }
      ]
    }
  ]
}